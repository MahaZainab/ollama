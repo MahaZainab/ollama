{
 "cells": [
  {
   "cell_type": "code",
   "execution_count": 1,
   "id": "aa9f3a3e",
   "metadata": {},
   "outputs": [],
   "source": [
    "import os\n",
    "import json\n",
    "import numpy as np\n",
    "from sklearn.feature_extraction.text import TfidfVectorizer\n",
    "from sklearn.metrics.pairwise import cosine_similarity\n",
    "import ollama"
   ]
  },
  {
   "cell_type": "code",
   "execution_count": 2,
   "id": "298455eb",
   "metadata": {},
   "outputs": [],
   "source": [
    "def load_json_data(json_path):\n",
    "    with open(json_path, 'r', encoding='utf-8') as file:\n",
    "        return json.load(file)\n"
   ]
  },
  {
   "cell_type": "code",
   "execution_count": 3,
   "id": "1e30a1bd",
   "metadata": {},
   "outputs": [],
   "source": [
    "def create_tfidf_vectors(data):\n",
    "    documents = [entry['question'] + ' ' + entry['code'] for entry in data]\n",
    "    vectorizer = TfidfVectorizer(stop_words='english')\n",
    "    tfidf_matrix = vectorizer.fit_transform(documents)\n",
    "    return vectorizer, tfidf_matrix\n"
   ]
  },
  {
   "cell_type": "code",
   "execution_count": 4,
   "id": "f362894c",
   "metadata": {},
   "outputs": [],
   "source": [
    "def retrieve_documents(query, data, vectorizer, tfidf_matrix):\n",
    "    query_vec = vectorizer.transform([query])\n",
    "    similarities = cosine_similarity(query_vec, tfidf_matrix).flatten()\n",
    "    top_n_indices = np.argsort(-similarities)[:5]\n",
    "    return [data[i] for i in top_n_indices if similarities[i] > 0]\n"
   ]
  },
  {
   "cell_type": "code",
   "execution_count": 5,
   "id": "071a20a6",
   "metadata": {},
   "outputs": [],
   "source": [
    "def generate_response_with_chain_of_thought(query, documents):\n",
    "    reasoning = 'Based on the provided code and context, '\n",
    "    context = ' '.join([f\"{doc['question']} Hence, {doc['answer']}.\" for doc in documents])\n",
    "    reasoning += context\n",
    "    combined_input = f\"Question: {query}\\n\\n{reasoning}\\n\\nTherefore,\"\n",
    "    response = ollama.chat(\n",
    "        model='deepseek-coder',\n",
    "        messages=[{\"role\": \"user\", \"content\": combined_input}]\n",
    "    )\n",
    "    return response['message']['content']\n"
   ]
  },
  {
   "cell_type": "code",
   "execution_count": null,
   "id": "e6f9e1f3",
   "metadata": {},
   "outputs": [
    {
     "name": "stderr",
     "output_type": "stream",
     "text": [
      "Generating predictions:   0%|          | 0/173 [00:00<?, ?it/s]"
     ]
    },
    {
     "name": "stderr",
     "output_type": "stream",
     "text": [
      "Generating predictions:  73%|███████▎  | 127/173 [55:39<13:54, 18.14s/it]  "
     ]
    }
   ],
   "source": [
    "from tqdm import tqdm\n",
    "\n",
    "json_path = 'smallest_dataset.json'\n",
    "data = load_json_data(json_path)\n",
    "vectorizer, tfidf_matrix = create_tfidf_vectors(data)\n",
    "\n",
    "updated_data = []\n",
    "for entry in tqdm(data, desc='Generating predictions'):\n",
    "    question = entry['question']\n",
    "    code = entry['code']\n",
    "    query = f\"{code}\\n{question}\"\n",
    "    relevant_docs = retrieve_documents(query, data, vectorizer, tfidf_matrix)\n",
    "    if not relevant_docs:\n",
    "        prediction = 'No relevant documents found.'\n",
    "    else:\n",
    "        try:\n",
    "            prediction = generate_response_with_chain_of_thought(query, relevant_docs)\n",
    "        except Exception as e:\n",
    "            prediction = f'Error: {str(e)}'\n",
    "    entry['prediction'] = prediction\n",
    "    updated_data.append(entry)\n",
    "\n",
    "output_path = 'output_data_with_predictions.json'\n",
    "with open(output_path, 'w', encoding='utf-8') as f:\n",
    "    json.dump(updated_data, f, indent=2)\n",
    "\n",
    "print(f\"\\n✅ Predictions saved to: {output_path}\")"
   ]
  },
  {
   "cell_type": "code",
   "execution_count": null,
   "id": "4bd805a4",
   "metadata": {},
   "outputs": [],
   "source": []
  },
  {
   "cell_type": "code",
   "execution_count": null,
   "id": "cc0d05f9",
   "metadata": {},
   "outputs": [],
   "source": []
  }
 ],
 "metadata": {
  "kernelspec": {
   "display_name": "Python 3",
   "language": "python",
   "name": "python3"
  },
  "language_info": {
   "codemirror_mode": {
    "name": "ipython",
    "version": 3
   },
   "file_extension": ".py",
   "mimetype": "text/x-python",
   "name": "python",
   "nbconvert_exporter": "python",
   "pygments_lexer": "ipython3",
   "version": "3.12.5"
  }
 },
 "nbformat": 4,
 "nbformat_minor": 5
}
